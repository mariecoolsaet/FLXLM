{
  "nbformat": 4,
  "nbformat_minor": 0,
  "metadata": {
    "colab": {
      "name": "SEP-769-DL.ipynb",
      "provenance": [],
      "collapsed_sections": [],
      "authorship_tag": "ABX9TyM3/kjoV2rE2V8j9FAiFUwh",
      "include_colab_link": true
    },
    "kernelspec": {
      "name": "python3",
      "display_name": "Python 3"
    },
    "language_info": {
      "name": "python"
    }
  },
  "cells": [
    {
      "cell_type": "markdown",
      "metadata": {
        "id": "view-in-github",
        "colab_type": "text"
      },
      "source": [
        "<a href=\"https://colab.research.google.com/github/mariecoolsaet/FLXLM/blob/master/SEP_769_DL.ipynb\" target=\"_parent\"><img src=\"https://colab.research.google.com/assets/colab-badge.svg\" alt=\"Open In Colab\"/></a>"
      ]
    },
    {
      "cell_type": "code",
      "metadata": {
        "id": "Js7b1QAXmGAb"
      },
      "source": [
        "import pandas as pd\n",
        "import os\n",
        "import cv2\n",
        "import random"
      ],
      "execution_count": 58,
      "outputs": []
    },
    {
      "cell_type": "markdown",
      "metadata": {
        "id": "X0OIOjdRIWPw"
      },
      "source": [
        "# Load Data, Format Labels, Split Train/Validation"
      ]
    },
    {
      "cell_type": "code",
      "metadata": {
        "colab": {
          "base_uri": "https://localhost:8080/",
          "height": 206
        },
        "id": "0y7yc68uQbJN",
        "outputId": "28c109e7-bed9-43fc-bc31-21677e01ad38"
      },
      "source": [
        "#import csv with bounding box labels\n",
        "df = pd.read_csv('/content/dashcam/train_solution_bounding_boxes (1).csv')\n",
        "df.head()"
      ],
      "execution_count": 59,
      "outputs": [
        {
          "output_type": "execute_result",
          "data": {
            "text/html": [
              "<div>\n",
              "<style scoped>\n",
              "    .dataframe tbody tr th:only-of-type {\n",
              "        vertical-align: middle;\n",
              "    }\n",
              "\n",
              "    .dataframe tbody tr th {\n",
              "        vertical-align: top;\n",
              "    }\n",
              "\n",
              "    .dataframe thead th {\n",
              "        text-align: right;\n",
              "    }\n",
              "</style>\n",
              "<table border=\"1\" class=\"dataframe\">\n",
              "  <thead>\n",
              "    <tr style=\"text-align: right;\">\n",
              "      <th></th>\n",
              "      <th>image</th>\n",
              "      <th>xmin</th>\n",
              "      <th>ymin</th>\n",
              "      <th>xmax</th>\n",
              "      <th>ymax</th>\n",
              "    </tr>\n",
              "  </thead>\n",
              "  <tbody>\n",
              "    <tr>\n",
              "      <th>0</th>\n",
              "      <td>vid_4_1000.jpg</td>\n",
              "      <td>281.259045</td>\n",
              "      <td>187.035071</td>\n",
              "      <td>327.727931</td>\n",
              "      <td>223.225547</td>\n",
              "    </tr>\n",
              "    <tr>\n",
              "      <th>1</th>\n",
              "      <td>vid_4_10000.jpg</td>\n",
              "      <td>15.163531</td>\n",
              "      <td>187.035071</td>\n",
              "      <td>120.329957</td>\n",
              "      <td>236.430180</td>\n",
              "    </tr>\n",
              "    <tr>\n",
              "      <th>2</th>\n",
              "      <td>vid_4_10040.jpg</td>\n",
              "      <td>239.192475</td>\n",
              "      <td>176.764800</td>\n",
              "      <td>361.968162</td>\n",
              "      <td>236.430180</td>\n",
              "    </tr>\n",
              "    <tr>\n",
              "      <th>3</th>\n",
              "      <td>vid_4_10020.jpg</td>\n",
              "      <td>496.483358</td>\n",
              "      <td>172.363256</td>\n",
              "      <td>630.020261</td>\n",
              "      <td>231.539575</td>\n",
              "    </tr>\n",
              "    <tr>\n",
              "      <th>4</th>\n",
              "      <td>vid_4_10060.jpg</td>\n",
              "      <td>16.630970</td>\n",
              "      <td>186.546010</td>\n",
              "      <td>132.558611</td>\n",
              "      <td>238.386422</td>\n",
              "    </tr>\n",
              "  </tbody>\n",
              "</table>\n",
              "</div>"
            ],
            "text/plain": [
              "             image        xmin        ymin        xmax        ymax\n",
              "0   vid_4_1000.jpg  281.259045  187.035071  327.727931  223.225547\n",
              "1  vid_4_10000.jpg   15.163531  187.035071  120.329957  236.430180\n",
              "2  vid_4_10040.jpg  239.192475  176.764800  361.968162  236.430180\n",
              "3  vid_4_10020.jpg  496.483358  172.363256  630.020261  231.539575\n",
              "4  vid_4_10060.jpg   16.630970  186.546010  132.558611  238.386422"
            ]
          },
          "metadata": {
            "tags": []
          },
          "execution_count": 59
        }
      ]
    },
    {
      "cell_type": "code",
      "metadata": {
        "colab": {
          "base_uri": "https://localhost:8080/"
        },
        "id": "8dXFby_oueAf",
        "outputId": "44939a78-30a3-4c03-a7b6-00dd4b4d4fb0"
      },
      "source": [
        "#import image names as a list\n",
        "images = os.listdir('/content/dashcam/training_images/')\n",
        "print(images[0:5])\n",
        "\n",
        "#create validation set of images\n",
        "random.seed(4)\n",
        "n = round(0.2 * len(images))\n",
        "val = random.sample(images, n)\n",
        "print('Number of validation images:', n)"
      ],
      "execution_count": 62,
      "outputs": [
        {
          "output_type": "stream",
          "text": [
            "['vid_4_18800.jpg', 'vid_4_11060.jpg', 'vid_4_16440.jpg', 'vid_4_5640.jpg', 'vid_4_17280.jpg']\n",
            "Number of validation images: 200\n"
          ],
          "name": "stdout"
        }
      ]
    },
    {
      "cell_type": "code",
      "metadata": {
        "colab": {
          "base_uri": "https://localhost:8080/",
          "height": 206
        },
        "id": "yZrIWl6L_Mj4",
        "outputId": "7710ad2e-2830-4c7a-fb8d-88eacca7d962"
      },
      "source": [
        "#convert bounding box to yolo format (x_center, y_center, width, height and normalize 0 - 1)\n",
        "frame = cv2.imread('/content/dashcam/training_images/' + images[0])\n",
        "h, w, colour = frame.shape\n",
        "\n",
        "df['class'] = 0\n",
        "df['x_center'] = (df['xmin'] +  (df['xmax'] - df['xmin']) / 2 ) / w\n",
        "df['y_center'] = (df['ymin'] +  (df['ymax'] - df['ymin']) / 2 ) / h\n",
        "df['width'] = (df['xmax'] - df['xmin']) / w\n",
        "df['height'] = (df['ymax'] - df['ymin']) / h\n",
        "\n",
        "df = df.drop(['xmin', 'ymin', 'xmax', 'ymax'], axis = 1)\n",
        "\n",
        "df.head()"
      ],
      "execution_count": 64,
      "outputs": [
        {
          "output_type": "execute_result",
          "data": {
            "text/html": [
              "<div>\n",
              "<style scoped>\n",
              "    .dataframe tbody tr th:only-of-type {\n",
              "        vertical-align: middle;\n",
              "    }\n",
              "\n",
              "    .dataframe tbody tr th {\n",
              "        vertical-align: top;\n",
              "    }\n",
              "\n",
              "    .dataframe thead th {\n",
              "        text-align: right;\n",
              "    }\n",
              "</style>\n",
              "<table border=\"1\" class=\"dataframe\">\n",
              "  <thead>\n",
              "    <tr style=\"text-align: right;\">\n",
              "      <th></th>\n",
              "      <th>image</th>\n",
              "      <th>class</th>\n",
              "      <th>x_center</th>\n",
              "      <th>y_center</th>\n",
              "      <th>width</th>\n",
              "      <th>height</th>\n",
              "    </tr>\n",
              "  </thead>\n",
              "  <tbody>\n",
              "    <tr>\n",
              "      <th>0</th>\n",
              "      <td>vid_4_1000.jpg</td>\n",
              "      <td>0</td>\n",
              "      <td>0.450434</td>\n",
              "      <td>0.539817</td>\n",
              "      <td>0.068741</td>\n",
              "      <td>0.095238</td>\n",
              "    </tr>\n",
              "    <tr>\n",
              "      <th>1</th>\n",
              "      <td>vid_4_10000.jpg</td>\n",
              "      <td>0</td>\n",
              "      <td>0.100217</td>\n",
              "      <td>0.557191</td>\n",
              "      <td>0.155572</td>\n",
              "      <td>0.129987</td>\n",
              "    </tr>\n",
              "    <tr>\n",
              "      <th>2</th>\n",
              "      <td>vid_4_10040.jpg</td>\n",
              "      <td>0</td>\n",
              "      <td>0.444645</td>\n",
              "      <td>0.543678</td>\n",
              "      <td>0.181621</td>\n",
              "      <td>0.157014</td>\n",
              "    </tr>\n",
              "    <tr>\n",
              "      <th>3</th>\n",
              "      <td>vid_4_10020.jpg</td>\n",
              "      <td>0</td>\n",
              "      <td>0.833213</td>\n",
              "      <td>0.531451</td>\n",
              "      <td>0.197540</td>\n",
              "      <td>0.155727</td>\n",
              "    </tr>\n",
              "    <tr>\n",
              "      <th>4</th>\n",
              "      <td>vid_4_10060.jpg</td>\n",
              "      <td>0</td>\n",
              "      <td>0.110347</td>\n",
              "      <td>0.559122</td>\n",
              "      <td>0.171491</td>\n",
              "      <td>0.136422</td>\n",
              "    </tr>\n",
              "  </tbody>\n",
              "</table>\n",
              "</div>"
            ],
            "text/plain": [
              "             image  class  x_center  y_center     width    height\n",
              "0   vid_4_1000.jpg      0  0.450434  0.539817  0.068741  0.095238\n",
              "1  vid_4_10000.jpg      0  0.100217  0.557191  0.155572  0.129987\n",
              "2  vid_4_10040.jpg      0  0.444645  0.543678  0.181621  0.157014\n",
              "3  vid_4_10020.jpg      0  0.833213  0.531451  0.197540  0.155727\n",
              "4  vid_4_10060.jpg      0  0.110347  0.559122  0.171491  0.136422"
            ]
          },
          "metadata": {
            "tags": []
          },
          "execution_count": 64
        }
      ]
    },
    {
      "cell_type": "code",
      "metadata": {
        "id": "_PnMdWnLjBkO"
      },
      "source": [
        "#Save images and labels - one text file per image\n",
        "for im in images:\n",
        "  frame = cv2.imread('/content/dashcam/training_images/{}'.format(im))\n",
        "  df_image = df[df['image'] == im]\n",
        "  df_image = df_image.drop(['image'], axis = 1)\n",
        "  df_image.head()\n",
        "  lbl = im[0:-3] + 'txt'\n",
        "  \n",
        "  if im in val:\n",
        "    cv2.imwrite('/content/dashcam/yolo/valid/images/{}'.format(im), frame)\n",
        "    df_image.to_csv('/content/dashcam/yolo/valid/labels/{}'.format(lbl), \n",
        "                    header=None, index=None, sep=' ', mode='a')\n",
        "  else:\n",
        "    cv2.imwrite('/content/dashcam/yolo/train/images/{}'.format(im), frame)\n",
        "    df_image.to_csv('/content/dashcam/yolo/train/labels/{}'.format(lbl), \n",
        "                    header=None, index=None, sep=' ', mode='a')"
      ],
      "execution_count": 75,
      "outputs": []
    },
    {
      "cell_type": "code",
      "metadata": {
        "id": "SQ9xrypnQjK6"
      },
      "source": [
        "#Augment Images"
      ],
      "execution_count": 4,
      "outputs": []
    },
    {
      "cell_type": "code",
      "metadata": {
        "id": "R6rSqIaMQ17E"
      },
      "source": [
        "#Train simple model"
      ],
      "execution_count": 5,
      "outputs": []
    },
    {
      "cell_type": "code",
      "metadata": {
        "id": "Ksz2YRbmQ4VV"
      },
      "source": [
        "#Test"
      ],
      "execution_count": 6,
      "outputs": []
    },
    {
      "cell_type": "code",
      "metadata": {
        "id": "w6wEgFTQQ7EM"
      },
      "source": [
        "#Test with Yolo"
      ],
      "execution_count": 7,
      "outputs": []
    }
  ]
}